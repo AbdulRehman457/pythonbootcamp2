{
 "cells": [
  {
   "cell_type": "code",
   "execution_count": 51,
   "id": "ac3d8fb9-fd24-40db-bb0a-9d0b1c30c0fd",
   "metadata": {},
   "outputs": [
    {
     "name": "stdout",
     "output_type": "stream",
     "text": [
      "The year with the best sales is  1999.\n",
      "The month with the best sales is  1/20/2016 \n",
      "The brand with the highest sale is: nan\n",
      "The category with the highest sale is: Portable Audio & Video\n",
      "The brand with the least sale is EINCAR with least sale of 3.169230769230769.\n",
      "The category with the least sale is Wearable Technology with least sale of 3.558968524838832.\n"
     ]
    }
   ],
   "source": [
    "import pandas as pd\n",
    "df = pd.read_csv('Documents/electronics.csv')\n",
    "max_rating_year = df[df['rating'] == df['rating'].max()]['year'].values[0]\n",
    "print(f\"The year with the best sales is  {max_rating_year}.\")\n",
    "\n",
    "\n",
    "max_rating_month = df[df['rating'] == df['rating'].max()]['timestamp'].values[0]\n",
    "print(f\"The month with the best sales is  {best_month} \")\n",
    "\n",
    "max_rating_brand = df[df['rating'] == df['rating'].max()]['brand'].values[0]\n",
    "print(f\"The brand with the highest sale is: {max_rating_brand}\")\n",
    "\n",
    "max_rating_category = df[df['rating'] == df['rating'].max()]['category'].values[0]\n",
    "print(f\"The category with the highest sale is: {max_rating_category}\")\n",
    "\n",
    "brand_ratings = df.groupby('brand')['rating'].mean()\n",
    "brand_with_lowest_rating = brand_ratings.idxmin()\n",
    "lowest_rating = brand_ratings.min()\n",
    "print(f\"The brand with the least sale is {brand_with_lowest_rating} with least sale of {lowest_rating}.\")\n",
    "\n",
    "category_ratings = df.groupby('category')['rating'].mean()\n",
    "category_with_lowest_rating = category_ratings.idxmin()\n",
    "category_min_rating = category_ratings.min()\n",
    "print(f\"The category with the least sale is {category_with_lowest_rating} with least sale of {category_min_rating}.\")"
   ]
  },
  {
   "cell_type": "code",
   "execution_count": null,
   "id": "ab2418a1-0166-40a0-8361-c699c563f130",
   "metadata": {},
   "outputs": [],
   "source": []
  }
 ],
 "metadata": {
  "kernelspec": {
   "display_name": "Python 3 (ipykernel)",
   "language": "python",
   "name": "python3"
  },
  "language_info": {
   "codemirror_mode": {
    "name": "ipython",
    "version": 3
   },
   "file_extension": ".py",
   "mimetype": "text/x-python",
   "name": "python",
   "nbconvert_exporter": "python",
   "pygments_lexer": "ipython3",
   "version": "3.11.4"
  }
 },
 "nbformat": 4,
 "nbformat_minor": 5
}
