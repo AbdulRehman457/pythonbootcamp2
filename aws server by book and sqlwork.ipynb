{
 "cells": [
  {
   "cell_type": "code",
   "execution_count": 1,
   "id": "0adf38ba-b49c-4193-9d42-3a730c258247",
   "metadata": {},
   "outputs": [],
   "source": [
    "import pandas as pd\n",
    "import mysql.connector\n",
    "import seaborn as sns"
   ]
  },
  {
   "cell_type": "code",
   "execution_count": 2,
   "id": "36be0b2e-f24c-4995-9645-efae2637f928",
   "metadata": {},
   "outputs": [
    {
     "name": "stdout",
     "output_type": "stream",
     "text": [
      "mysql is connected to server\n"
     ]
    }
   ],
   "source": [
    "conn = mysql.connector.connect(host='database-1.cvcplizu8pkf.ap-south-1.rds.amazonaws.com', database='product', user='admin', password='12345678')\n",
    "if conn.is_connected():\n",
    "    print(\"mysql is connected to server\")"
   ]
  },
  {
   "cell_type": "code",
   "execution_count": 3,
   "id": "4fec7daa-7c92-4da1-a9e5-cbce7873248f",
   "metadata": {},
   "outputs": [
    {
     "name": "stderr",
     "output_type": "stream",
     "text": [
      "C:\\Users\\B I S M I L L A H\\AppData\\Local\\Temp\\ipykernel_10376\\4209310862.py:1: UserWarning: pandas only supports SQLAlchemy connectable (engine/connection) or database string URI or sqlite3 DBAPI2 connection. Other DBAPI2 objects are not tested. Please consider using SQLAlchemy.\n",
      "  data=pd.read_sql('select * from product.Persons',conn)\n"
     ]
    },
    {
     "data": {
      "text/html": [
       "<div>\n",
       "<style scoped>\n",
       "    .dataframe tbody tr th:only-of-type {\n",
       "        vertical-align: middle;\n",
       "    }\n",
       "\n",
       "    .dataframe tbody tr th {\n",
       "        vertical-align: top;\n",
       "    }\n",
       "\n",
       "    .dataframe thead th {\n",
       "        text-align: right;\n",
       "    }\n",
       "</style>\n",
       "<table border=\"1\" class=\"dataframe\">\n",
       "  <thead>\n",
       "    <tr style=\"text-align: right;\">\n",
       "      <th></th>\n",
       "      <th>ID</th>\n",
       "      <th>FirstName</th>\n",
       "      <th>LastName</th>\n",
       "      <th>Address</th>\n",
       "      <th>City</th>\n",
       "    </tr>\n",
       "  </thead>\n",
       "  <tbody>\n",
       "    <tr>\n",
       "      <th>0</th>\n",
       "      <td>1</td>\n",
       "      <td>Harsh</td>\n",
       "      <td>Sareen</td>\n",
       "      <td>xyz</td>\n",
       "      <td>indoreID</td>\n",
       "    </tr>\n",
       "    <tr>\n",
       "      <th>1</th>\n",
       "      <td>2</td>\n",
       "      <td>irshaad</td>\n",
       "      <td>mohmad</td>\n",
       "      <td>xxx</td>\n",
       "      <td>germany</td>\n",
       "    </tr>\n",
       "    <tr>\n",
       "      <th>2</th>\n",
       "      <td>3</td>\n",
       "      <td>sumit</td>\n",
       "      <td>agarwal</td>\n",
       "      <td>njk</td>\n",
       "      <td>varanasi</td>\n",
       "    </tr>\n",
       "    <tr>\n",
       "      <th>3</th>\n",
       "      <td>4</td>\n",
       "      <td>tom</td>\n",
       "      <td>cruise</td>\n",
       "      <td>lop</td>\n",
       "      <td>newyork</td>\n",
       "    </tr>\n",
       "    <tr>\n",
       "      <th>4</th>\n",
       "      <td>5</td>\n",
       "      <td>vin</td>\n",
       "      <td>diesel</td>\n",
       "      <td>tre</td>\n",
       "      <td>florida</td>\n",
       "    </tr>\n",
       "  </tbody>\n",
       "</table>\n",
       "</div>"
      ],
      "text/plain": [
       "   ID FirstName LastName Address      City\n",
       "0   1     Harsh   Sareen     xyz  indoreID\n",
       "1   2   irshaad   mohmad     xxx   germany\n",
       "2   3     sumit  agarwal     njk  varanasi\n",
       "3   4       tom   cruise     lop   newyork\n",
       "4   5       vin   diesel     tre   florida"
      ]
     },
     "execution_count": 3,
     "metadata": {},
     "output_type": "execute_result"
    }
   ],
   "source": [
    "data=pd.read_sql('select * from product.Persons',conn)\n",
    "data.head()"
   ]
  },
  {
   "cell_type": "code",
   "execution_count": null,
   "id": "91e80b85-883e-4ff7-9a92-1a0a31638ed4",
   "metadata": {},
   "outputs": [],
   "source": []
  }
 ],
 "metadata": {
  "kernelspec": {
   "display_name": "Python 3 (ipykernel)",
   "language": "python",
   "name": "python3"
  },
  "language_info": {
   "codemirror_mode": {
    "name": "ipython",
    "version": 3
   },
   "file_extension": ".py",
   "mimetype": "text/x-python",
   "name": "python",
   "nbconvert_exporter": "python",
   "pygments_lexer": "ipython3",
   "version": "3.11.4"
  }
 },
 "nbformat": 4,
 "nbformat_minor": 5
}
